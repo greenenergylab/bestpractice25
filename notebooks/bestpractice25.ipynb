{
 "cells": [
  {
   "cell_type": "markdown",
   "id": "7b67f1b4-4855-4a3c-a127-1ea2d8bc27c1",
   "metadata": {
    "editable": true,
    "slideshow": {
     "slide_type": "slide"
    },
    "tags": []
   },
   "source": [
    "# Wie Programmierung interaktiv und einfach gestaltet wird\n",
    "\n",
    "## Warum ist Programmieren schwierig?\n",
    "\n",
    "1. **Black Box-Problem**: Der Code läuft \"versteckt\" ab, ohne sichtbare Zwischenschritte\n",
    "2. **Nicht menschenlesbar**: Code ist primär für Maschinen, nicht für Menschen optimiert\n",
    "3. **Ganzheitliche Ausführung**: Code muss komplett fehlerfrei sein, um überhaupt zu funktionieren\n",
    "4. **Kontextwechsel**: Ständiges Wechseln zwischen Entwicklungsumgebung und Ausgabe\n",
    "\n",
    "## Lösungsansatz: Notebooks statt klassischem Quellcode\n",
    "\n",
    "### Kernprinzipien von Jupyter Notebooks:\n",
    "\n",
    "- **Modularer Aufbau**: Code wird in einzelne, ausführbare Zellen unterteilt\n",
    "- **Unabhängige Ausführung**: Jede Zelle kann separat ausgeführt werden\n",
    "- **Multimodale Inhalte**: Verschiedene Zelltypen (Code, Markdown-Text, Rohdaten)\n",
    "- **Standardformat**: .ipynb-Dateien (JSON-basiert) speichern Input, Output und Metadaten\n",
    "- **Professionelle Umgebung**: Project Jupyter bietet die führende Entwicklungsumgebung"
   ]
  },
  {
   "cell_type": "markdown",
   "id": "8bb5a8c5-68cd-414b-b71a-a9edc51e690f",
   "metadata": {
    "editable": true,
    "slideshow": {
     "slide_type": "slide"
    },
    "tags": []
   },
   "source": [
    "# Praktische Demonstration (Python)\n",
    "\n",
    "## Grundlagen: Zellen und deren Ausführung\n",
    "\n",
    "Notebooks bestehen aus verschiedenen Zelltypen: **Code**, **Markdown** und **Raw**. \n",
    "Zellen werden mit **Shift+Enter** ausgeführt."
   ]
  },
  {
   "cell_type": "code",
   "execution_count": null,
   "id": "f2aab9df-6754-4c53-bd9c-8ceab380f88d",
   "metadata": {
    "editable": true,
    "slideshow": {
     "slide_type": "fragment"
    },
    "tags": []
   },
   "outputs": [],
   "source": [
    "# Einfache Mathematik (implizite Ausgabe)\n",
    "1 + 1"
   ]
  },
  {
   "cell_type": "code",
   "execution_count": null,
   "id": "9aeb7a6e-ee8e-4370-95e1-3de88f2bdfb0",
   "metadata": {
    "editable": true,
    "slideshow": {
     "slide_type": "fragment"
    },
    "tags": []
   },
   "outputs": [],
   "source": [
    "# Variablen verwenden (explizite Ausgabe)\n",
    "a = 1\n",
    "b = 2\n",
    "c = a + b\n",
    "print(c)"
   ]
  },
  {
   "cell_type": "code",
   "execution_count": null,
   "id": "d4ba8aed-23ef-44da-9f76-2162efe6a11a",
   "metadata": {
    "editable": true,
    "slideshow": {
     "slide_type": "fragment"
    },
    "tags": []
   },
   "outputs": [],
   "source": [
    "# Mehrere Ergebnisse ausgeben\n",
    "print('a + b =', c)\n",
    "print('a * b =', a*b)"
   ]
  },
  {
   "cell_type": "markdown",
   "id": "54ffd5da-375b-4709-a0a4-a9d0115e3e78",
   "metadata": {
    "editable": true,
    "slideshow": {
     "slide_type": "slide"
    },
    "tags": []
   },
   "source": [
    "## Komplexeres Beispiel: Visualisierung von Klimadaten\n",
    "\n",
    "### Schritt 1: Bibliotheken importieren\n",
    "\n",
    "> **Hinweis**: Diese Pakete müssen vorher installiert werden. Nach der Installation den Kernel neu starten!"
   ]
  },
  {
   "cell_type": "code",
   "execution_count": null,
   "id": "5602501e-2097-4f97-99e9-ad54d36b2d59",
   "metadata": {
    "editable": true,
    "slideshow": {
     "slide_type": "fragment"
    },
    "tags": []
   },
   "outputs": [],
   "source": [
    "# Python-Pakete importieren\n",
    "# Diese müssen vorab installiert werden (Kernel nach Installation neu starten!)\n",
    "import numpy as np\n",
    "import matplotlib.pyplot as plt\n",
    "import csv"
   ]
  },
  {
   "cell_type": "code",
   "execution_count": null,
   "id": "e67cf860-fc47-49e5-b300-d62ba23a156d",
   "metadata": {
    "editable": true,
    "slideshow": {
     "slide_type": "fragment"
    },
    "tags": []
   },
   "outputs": [],
   "source": []
  },
  {
   "cell_type": "markdown",
   "id": "080c483b-8062-4a5c-9756-fe6d04eec54a",
   "metadata": {
    "editable": true,
    "slideshow": {
     "slide_type": "subslide"
    },
    "tags": []
   },
   "source": [
    "### Schritt 2: Daten herunterladen\n",
    "\n",
    "Wir laden Klimadaten vom Deutschen Wetterdienst herunter:"
   ]
  },
  {
   "cell_type": "code",
   "execution_count": null,
   "id": "8e335eb2-64dc-4764-b039-d507352611e9",
   "metadata": {
    "editable": true,
    "slideshow": {
     "slide_type": "fragment"
    },
    "tags": []
   },
   "outputs": [],
   "source": [
    "# Klimadaten vom Deutschen Wetterdienst herunterladen\n",
    "!curl -O https://opendata.dwd.de/climate_environment/CDC/regional_averages_DE/annual/air_temperature_mean/regional_averages_tm_year.txt"
   ]
  },
  {
   "cell_type": "code",
   "execution_count": null,
   "id": "7b969cb0-3f89-4592-84b9-3022667ee8f9",
   "metadata": {
    "editable": true,
    "slideshow": {
     "slide_type": "fragment"
    },
    "tags": []
   },
   "outputs": [],
   "source": []
  },
  {
   "cell_type": "markdown",
   "id": "0a8a4fba-eb1d-4271-950b-cb214c97bb64",
   "metadata": {
    "editable": true,
    "slideshow": {
     "slide_type": "subslide"
    },
    "tags": []
   },
   "source": [
    "### Schritt 3: Variablen definieren"
   ]
  },
  {
   "cell_type": "code",
   "execution_count": null,
   "id": "05e3863c-81bf-4dd6-8f7b-277a0773509e",
   "metadata": {
    "editable": true,
    "slideshow": {
     "slide_type": "fragment"
    },
    "tags": []
   },
   "outputs": [],
   "source": [
    "# Variablen für die Datenverarbeitung definieren\n",
    "Bundesland = 10  # Spaltenindex für Nordrhein-Westfalen\n",
    "\n",
    "temp = []  # Liste für Temperaturdaten\n",
    "year = []  # Liste für Jahreszahlen"
   ]
  },
  {
   "cell_type": "code",
   "execution_count": null,
   "id": "a674be2e-fd30-42e5-b45e-466ca6466aaa",
   "metadata": {
    "editable": true,
    "slideshow": {
     "slide_type": "fragment"
    },
    "tags": []
   },
   "outputs": [],
   "source": []
  },
  {
   "cell_type": "markdown",
   "id": "f0387dd1-424f-41f1-92d3-7a366348f2b2",
   "metadata": {
    "editable": true,
    "slideshow": {
     "slide_type": "subslide"
    },
    "tags": []
   },
   "source": [
    "### Schritt 4: Daten laden und verarbeiten"
   ]
  },
  {
   "cell_type": "code",
   "execution_count": null,
   "id": "bbbe80b5-6fe9-4130-950f-1e111bd9482a",
   "metadata": {
    "editable": true,
    "slideshow": {
     "slide_type": "fragment"
    },
    "tags": []
   },
   "outputs": [],
   "source": [
    "Bundesland = 10  # Spaltenindex für Nordrhein-Westfalen\n",
    "\n",
    "temp = []\n",
    "year = []\n",
    "\n",
    "with open(\"regional_averages_tm_year.txt\", \"r\") as read_file:\n",
    "    data = csv.reader(read_file, delimiter=\";\")\n",
    "    \n",
    "    next(data)  # Zeile 1: Überschrift\n",
    "    header = next(data)  # Zeile 2: Länder\n",
    "\n",
    "    bundesland_name = header[Bundesland].strip()\n",
    "\n",
    "    for row in data:\n",
    "        temp.append(float(row[Bundesland]))\n",
    "        year.append(float(row[0]))"
   ]
  },
  {
   "cell_type": "code",
   "execution_count": null,
   "id": "86e3a9be-3a55-4739-9d10-074d14fa730f",
   "metadata": {
    "editable": true,
    "slideshow": {
     "slide_type": "fragment"
    },
    "tags": []
   },
   "outputs": [],
   "source": []
  },
  {
   "cell_type": "markdown",
   "id": "7b925f50-25a2-4eb4-8cf2-272011b19019",
   "metadata": {
    "editable": true,
    "slideshow": {
     "slide_type": "subslide"
    },
    "tags": []
   },
   "source": [
    "### Schritt 5: Datenvisualisierung\n",
    "\n",
    "Erstellen wir eine \"Warming Stripes\" Darstellung der Temperaturentwicklung:"
   ]
  },
  {
   "cell_type": "code",
   "execution_count": null,
   "id": "9b2eea1d-af95-4088-bfb3-adf6cf7d289e",
   "metadata": {
    "editable": true,
    "slideshow": {
     "slide_type": "fragment"
    },
    "tags": []
   },
   "outputs": [],
   "source": [
    "# Temperaturstreifen (Warming Stripes)\n",
    "fig, ax = plt.subplots(figsize=(8, 2))\n",
    "colors = plt.get_cmap('RdBu_r')((temp - np.min(temp)) / (np.max(temp) - np.min(temp)))\n",
    "ax.bar(year, 1.0, width=1.0, color=colors)\n",
    "ax.axis('off')\n",
    "plt.title(f'Temperaturentwicklung {bundesland_name} (1881–2023)')\n",
    "plt.tight_layout()"
   ]
  },
  {
   "cell_type": "markdown",
   "id": "984c62f9-6a24-4efe-b25a-b763a958a068",
   "metadata": {
    "editable": true,
    "slideshow": {
     "slide_type": "fragment"
    },
    "tags": []
   },
   "source": [
    "> **Datenquelle**: Deutscher Wetterdienst (DWD)  \n",
    "> **Inspiriert von**: [Scientists for Future Freiburg](https://www.s4f-freiburg.de/temperaturstreifen/)"
   ]
  },
  {
   "cell_type": "markdown",
   "id": "e7111b84-06a9-4d6d-aa2b-cd0dfb923fb2",
   "metadata": {
    "editable": true,
    "slideshow": {
     "slide_type": "skip"
    },
    "tags": []
   },
   "source": [
    "## Wie fange ich mit Jupyter an?\n",
    "\n",
    "### Option 1: Lokale Installation (JupyterLab)\n",
    "\n",
    "**Kurze Anleitung:**\n",
    "1. JupyterLab und gewünschte Programmiersprache (Kernel) installieren\n",
    "2. JupyterLab starten\n",
    "3. Über Webbrowser verbinden\n",
    "\n",
    "**Detaillierte Dokumentation:**\n",
    "- [Offizielle Jupyter-Website](https://jupyter.org/install)\n",
    "- [JupyterLab Installation](https://jupyterlab.readthedocs.io/en/stable/getting_started/installation.html)\n",
    "- [JupyterLab starten](https://jupyterlab.readthedocs.io/en/stable/getting_started/starting.html)\n",
    "\n",
    "### Option 2: Als Service nutzen (JupyterHub)\n",
    "\n",
    "Viele Universitäten und Forschungseinrichtungen bieten eigene JupyterHub-Instanzen an.\n",
    "\n",
    "> **Tipp**: Fragen Sie Ihren lokalen IT-Service nach verfügbaren Jupyter-Diensten!"
   ]
  },
  {
   "cell_type": "markdown",
   "id": "8c847fe0-97f5-4a78-95a1-85be73c67d0d",
   "metadata": {
    "editable": true,
    "slideshow": {
     "slide_type": "slide"
    },
    "tags": []
   },
   "source": [
    "## Zusammenfassung\n",
    "\n",
    "Jupyter Notebooks revolutionieren das Programmieren durch:\n",
    "- **Interaktivität**: Sofortiges Feedback bei jeder Code-Ausführung\n",
    "- **Transparenz**: Sichtbare Zwischenschritte und Ergebnisse\n",
    "- **Dokumentation**: Code und Erklärungen in einem Dokument\n",
    "- **Experimentierfreude**: Einfaches Testen und Anpassen von Code-Fragmenten\n",
    "\n",
    "Dies macht Programmierung zugänglicher, verständlicher und effizienter – besonders für Datenanalyse, Visualisierung und wissenschaftliche Anwendungen."
   ]
  },
  {
   "cell_type": "markdown",
   "id": "d59c764e-ec31-4a53-b29d-7db4e98f4213",
   "metadata": {
    "editable": true,
    "slideshow": {
     "slide_type": "slide"
    },
    "tags": []
   },
   "source": [
    "# Aber was war jetzt mit der Windenergie?"
   ]
  },
  {
   "cell_type": "markdown",
   "id": "6b2bb87f-e8ad-4f10-aeaf-24d75449d60e",
   "metadata": {
    "editable": true,
    "slideshow": {
     "slide_type": "slide"
    },
    "tags": []
   },
   "source": [
    "# Windkraft-Vorhersage mit Machine Learning\n",
    "## Ein Beispiel für Data Literacy im Ingenieurstudium\n",
    "\n",
    "### Problemstellung: Wie vorhersagbar ist die Windenergie?\n",
    "Als Ingenieur*in sollen Sie die Energieausbeute eines Windparks vorhersagen können. \n",
    "Statt mit vereinfachten Gleichungen zu rechnen, verwenden wir echte Wetterdaten!"
   ]
  },
  {
   "cell_type": "code",
   "execution_count": null,
   "id": "760813c9-32dc-4400-adec-10553cdde608",
   "metadata": {
    "editable": true,
    "slideshow": {
     "slide_type": "fragment"
    },
    "tags": []
   },
   "outputs": [],
   "source": [
    "import pandas as pd\n",
    "import numpy as np\n",
    "import matplotlib.pyplot as plt\n",
    "import requests\n",
    "from datetime import datetime, timedelta\n",
    "from sklearn.ensemble import RandomForestRegressor\n",
    "from sklearn.model_selection import train_test_split\n",
    "from sklearn.metrics import mean_squared_error, r2_score\n",
    "import warnings\n",
    "warnings.filterwarnings('ignore')\n",
    "\n",
    "# Deutsche Locale für bessere Darstellung\n",
    "import locale\n",
    "try:\n",
    "    locale.setlocale(locale.LC_TIME, 'de_DE.UTF-8')\n",
    "except:\n",
    "    pass"
   ]
  },
  {
   "cell_type": "code",
   "execution_count": null,
   "id": "f2874b4f-9880-4f54-afd9-1b3e1715d4e0",
   "metadata": {
    "editable": true,
    "slideshow": {
     "slide_type": "fragment"
    },
    "tags": []
   },
   "outputs": [],
   "source": []
  },
  {
   "cell_type": "markdown",
   "id": "de5ff88b-1863-48c6-b27a-85c6e4feb666",
   "metadata": {
    "editable": true,
    "slideshow": {
     "slide_type": "slide"
    },
    "tags": []
   },
   "source": [
    "## 2. Daten sammeln: Echte Windgeschwindigkeiten aus Deutschland\n",
    "Wir verwenden die **Bright Sky API** - eine kostenlose Schnittstelle zu Daten des Deutschen Wetterdienstes (DWD)."
   ]
  },
  {
   "cell_type": "code",
   "execution_count": null,
   "id": "bca62aac-8e2e-4d63-8050-ab4fee2caf5e",
   "metadata": {
    "editable": true,
    "slideshow": {
     "slide_type": "subslide"
    },
    "tags": []
   },
   "outputs": [],
   "source": [
    "# Koordinaten für Nordrhein-Westfalen (Münster)\n",
    "lat, lon = 51.9606, 7.6261\n",
    "\n",
    "def get_wind_data(lat, lon, start_date, end_date):\n",
    "    \"\"\"\n",
    "    Lädt Winddaten vom Deutschen Wetterdienst über die Bright Sky API\n",
    "    \"\"\"\n",
    "    url = \"https://api.brightsky.dev/weather\"\n",
    "    \n",
    "    params = {\n",
    "        'lat': lat,\n",
    "        'lon': lon,\n",
    "        'date': start_date.strftime('%Y-%m-%d'),\n",
    "        'last_date': end_date.strftime('%Y-%m-%d')\n",
    "    }\n",
    "    \n",
    "    response = requests.get(url, params=params)\n",
    "    \n",
    "    if response.status_code == 200:\n",
    "        data = response.json()\n",
    "        \n",
    "        # Daten in DataFrame umwandeln\n",
    "        weather_records = []\n",
    "        for record in data['weather']:\n",
    "            weather_records.append({\n",
    "                'timestamp': pd.to_datetime(record['timestamp']),\n",
    "                'wind_speed': record.get('wind_speed', 0),  # m/s\n",
    "                'wind_direction': record.get('wind_direction', 0),  # Grad\n",
    "                'temperature': record.get('temperature', 0),  # °C\n",
    "                'pressure': record.get('pressure_msl', 1013),  # hPa\n",
    "                'humidity': record.get('relative_humidity', 50)  # %\n",
    "            })\n",
    "        \n",
    "        return pd.DataFrame(weather_records)\n",
    "    else:\n",
    "        print(f\"Fehler beim Abrufen der Daten: {response.status_code}\")\n",
    "        return None"
   ]
  },
  {
   "cell_type": "code",
   "execution_count": null,
   "id": "b36ee548-4812-48c9-ae8c-b522b283071a",
   "metadata": {
    "editable": true,
    "slideshow": {
     "slide_type": "fragment"
    },
    "tags": []
   },
   "outputs": [],
   "source": []
  },
  {
   "cell_type": "code",
   "execution_count": null,
   "id": "97aa7b1f-6998-4b66-9617-c7e97f9d8e74",
   "metadata": {
    "editable": true,
    "slideshow": {
     "slide_type": "fragment"
    },
    "tags": []
   },
   "outputs": [],
   "source": [
    "# Daten für die letzten 30 Tage abrufen\n",
    "end_date = datetime.now()\n",
    "start_date = end_date - timedelta(days=30)\n",
    "\n",
    "print(f\"Lade Winddaten für {start_date.strftime('%Y-%m-%d')} bis {end_date.strftime('%Y-%m-%d')}...\")\n",
    "df = get_wind_data(lat, lon, start_date, end_date)\n",
    "\n",
    "if df is not None:\n",
    "    print(f\"✓ {len(df)} Datensätze erfolgreich geladen!\")\n",
    "    print(\"\\nErstmal schauen, was wir haben:\")\n",
    "    print(df.head())\n",
    "    \n",
    "    # Zusätzliche Zeitfeatures erstellen\n",
    "    df['hour'] = df['timestamp'].dt.hour\n",
    "    df['day_of_week'] = df['timestamp'].dt.dayofweek\n",
    "    df['date'] = df['timestamp'].dt.date\n",
    "else:\n",
    "    print(\"❌ Fehler beim Laden der Daten\")"
   ]
  },
  {
   "cell_type": "code",
   "execution_count": null,
   "id": "ae1ad7bb-7b2e-4ce1-b0a1-47c15c723255",
   "metadata": {
    "editable": true,
    "slideshow": {
     "slide_type": ""
    },
    "tags": []
   },
   "outputs": [],
   "source": []
  },
  {
   "cell_type": "markdown",
   "id": "ced9047c-33c8-4634-8c2c-c121b4d4c19c",
   "metadata": {
    "editable": true,
    "slideshow": {
     "slide_type": "slide"
    },
    "tags": []
   },
   "source": [
    "## 3. Datenexploration: Was sagen uns die Winddaten?\n",
    "Bevor wir Modelle bauen, müssen wir verstehen, womit wir arbeiten."
   ]
  },
  {
   "cell_type": "code",
   "execution_count": null,
   "id": "6e1eb7ea-cda9-42ae-975f-3c80ad906ae3",
   "metadata": {
    "editable": true,
    "slideshow": {
     "slide_type": "subslide"
    },
    "tags": []
   },
   "outputs": [],
   "source": [
    "# Basis-Statistiken\n",
    "print(\"📊 Statistiken der Windgeschwindigkeit:\")\n",
    "print(f\"Durchschnitt: {df['wind_speed'].mean():.2f} m/s\")\n",
    "print(f\"Maximum: {df['wind_speed'].max():.2f} m/s\")\n",
    "print(f\"Minimum: {df['wind_speed'].min():.2f} m/s\")\n",
    "print(f\"Standardabweichung: {df['wind_speed'].std():.2f} m/s\")\n",
    "print(f\"\\n📊 Weitere Wetterdaten:\")\n",
    "print(f\"Durchschnittliche Temperatur: {df['temperature'].mean():.1f} °C\")\n",
    "print(f\"Durchschnittlicher Luftdruck: {df['pressure'].mean():.1f} hPa\")\n",
    "print(f\"Durchschnittliche Luftfeuchtigkeit: {df['humidity'].mean():.1f} %\")"
   ]
  },
  {
   "cell_type": "code",
   "execution_count": null,
   "id": "ee583255-1300-402a-b31c-0a911c1c9062",
   "metadata": {
    "editable": true,
    "slideshow": {
     "slide_type": "fragment"
    },
    "tags": []
   },
   "outputs": [],
   "source": []
  },
  {
   "cell_type": "code",
   "execution_count": null,
   "id": "a6e8196f-7e7e-4860-8bd8-22802f722d15",
   "metadata": {
    "editable": true,
    "slideshow": {
     "slide_type": "subslide"
    },
    "tags": []
   },
   "outputs": [],
   "source": [
    "# Visualisierung der Windgeschwindigkeiten\n",
    "fig, axes = plt.subplots(2, 2, figsize=(15, 10))\n",
    "fig.suptitle('Analyse der Winddaten aus NRW', fontsize=16)\n",
    "\n",
    "# 1. Zeitreihe der Windgeschwindigkeit\n",
    "ax1 = axes[0, 0]\n",
    "ax1.plot(df['timestamp'], df['wind_speed'], alpha=0.7, linewidth=1)\n",
    "ax1.set_xlabel('Zeit')\n",
    "ax1.set_ylabel('Windgeschwindigkeit (m/s)')\n",
    "ax1.set_title('Windgeschwindigkeit über die Zeit')\n",
    "ax1.grid(True, alpha=0.3)\n",
    "ax1.tick_params(axis='x', rotation=45)\n",
    "\n",
    "# 2. Histogramm der Windgeschwindigkeiten\n",
    "ax2 = axes[0, 1]\n",
    "ax2.hist(df['wind_speed'], bins=30, alpha=0.7, color='skyblue', edgecolor='black')\n",
    "ax2.set_xlabel('Windgeschwindigkeit (m/s)')\n",
    "ax2.set_ylabel('Häufigkeit')\n",
    "ax2.set_title('Verteilung der Windgeschwindigkeiten')\n",
    "ax2.axvline(df['wind_speed'].mean(), color='red', linestyle='--', \n",
    "            label=f'Durchschnitt: {df[\"wind_speed\"].mean():.1f} m/s')\n",
    "ax2.legend()\n",
    "\n",
    "# 3. Tagesverlauf (Durchschnitt pro Stunde)\n",
    "ax3 = axes[1, 0]\n",
    "hourly_avg = df.groupby('hour')['wind_speed'].mean()\n",
    "ax3.plot(hourly_avg.index, hourly_avg.values, marker='o', markersize=6)\n",
    "ax3.set_xlabel('Stunde des Tages')\n",
    "ax3.set_ylabel('Durchschn. Windgeschwindigkeit (m/s)')\n",
    "ax3.set_title('Typischer Tagesverlauf der Windgeschwindigkeit')\n",
    "ax3.grid(True, alpha=0.3)\n",
    "ax3.set_xticks(range(0, 24, 3))\n",
    "\n",
    "# 4. Boxplot nach Wochentag\n",
    "ax4 = axes[1, 1]\n",
    "df_boxplot = df.copy()\n",
    "df_boxplot['weekday'] = df_boxplot['timestamp'].dt.day_name()\n",
    "weekday_order = ['Monday', 'Tuesday', 'Wednesday', 'Thursday', 'Friday', 'Saturday', 'Sunday']\n",
    "df_boxplot['weekday'] = pd.Categorical(df_boxplot['weekday'], categories=weekday_order, ordered=True)\n",
    "df_boxplot.boxplot(column='wind_speed', by='weekday', ax=ax4)\n",
    "ax4.set_xlabel('Wochentag')\n",
    "ax4.set_ylabel('Windgeschwindigkeit (m/s)')\n",
    "ax4.set_title('Windgeschwindigkeit nach Wochentag')\n",
    "ax4.tick_params(axis='x', rotation=45)\n",
    "\n",
    "plt.tight_layout()\n",
    "plt.show()"
   ]
  },
  {
   "cell_type": "code",
   "execution_count": null,
   "id": "591b4d5e-3e1c-40b0-8846-004ca88c05a2",
   "metadata": {
    "editable": true,
    "slideshow": {
     "slide_type": "fragment"
    },
    "tags": []
   },
   "outputs": [],
   "source": []
  },
  {
   "cell_type": "markdown",
   "id": "e74fcab8-127c-4182-a603-77fbffdf48a0",
   "metadata": {
    "editable": true,
    "slideshow": {
     "slide_type": "slide"
    },
    "tags": []
   },
   "source": [
    "## 4. Engineering: Von Windgeschwindigkeit zu Energie\n",
    "Jetzt wird es ingenieursmäßig! Wir wandeln Windgeschwindigkeit in elektrische Leistung um."
   ]
  },
  {
   "cell_type": "code",
   "execution_count": null,
   "id": "df270277-435d-4b1f-b02b-d01d6932d5f6",
   "metadata": {
    "editable": true,
    "slideshow": {
     "slide_type": "subslide"
    },
    "tags": []
   },
   "outputs": [],
   "source": [
    "def wind_to_power(wind_speed, rated_power=2000, cut_in=3, rated_wind=12, cut_out=25):\n",
    "    \"\"\"\n",
    "    Berechnet die Leistung einer Windkraftanlage basierend auf der Windgeschwindigkeit\n",
    "    \n",
    "    Parameter:\n",
    "    - wind_speed: Windgeschwindigkeit in m/s\n",
    "    - rated_power: Nennleistung der Anlage in kW (default: 2 MW)\n",
    "    - cut_in: Einschaltgeschwindigkeit in m/s\n",
    "    - rated_wind: Windgeschwindigkeit bei Nennleistung in m/s\n",
    "    - cut_out: Abschaltgeschwindigkeit in m/s\n",
    "    \n",
    "    Rückgabe:\n",
    "    - Leistung in kW\n",
    "    \"\"\"\n",
    "    if wind_speed < cut_in:\n",
    "        # Unterhalb der Einschaltgeschwindigkeit\n",
    "        return 0\n",
    "    elif wind_speed >= cut_in and wind_speed < rated_wind:\n",
    "        # Kubische Beziehung zwischen cut_in und rated_wind\n",
    "        # Vereinfachte Berechnung mit kubischer Interpolation\n",
    "        return rated_power * ((wind_speed - cut_in) / (rated_wind - cut_in)) ** 3\n",
    "    elif wind_speed >= rated_wind and wind_speed < cut_out:\n",
    "        # Nennleistung\n",
    "        return rated_power\n",
    "    else:\n",
    "        # Oberhalb der Abschaltgeschwindigkeit\n",
    "        return 0\n",
    "\n",
    "# Berechnung der theoretischen Energieausbeute\n",
    "df['power_output'] = df['wind_speed'].apply(wind_to_power)\n",
    "\n",
    "# Berechnung weiterer Kennzahlen\n",
    "df['power_coefficient'] = df['power_output'] / 2000  # Kapazitätsfaktor"
   ]
  },
  {
   "cell_type": "code",
   "execution_count": null,
   "id": "c5935e47-7c68-457a-b9aa-547bc17ef24b",
   "metadata": {
    "editable": true,
    "slideshow": {
     "slide_type": "fragment"
    },
    "tags": []
   },
   "outputs": [],
   "source": []
  },
  {
   "cell_type": "code",
   "execution_count": null,
   "id": "8ee28fb3-5344-40c5-8743-e7fce36e8a36",
   "metadata": {
    "editable": true,
    "slideshow": {
     "slide_type": "fragment"
    },
    "tags": []
   },
   "outputs": [],
   "source": [
    "print(f\"⚡ Theoretische Energieausbeute:\")\n",
    "print(f\"Durchschnittliche Leistung: {df['power_output'].mean():.0f} kW\")\n",
    "print(f\"Maximale Leistung: {df['power_output'].max():.0f} kW\") \n",
    "print(f\"Minimale Leistung: {df['power_output'].min():.0f} kW\")\n",
    "print(f\"Kapazitätsfaktor: {(df['power_output'].mean() / 2000) * 100:.1f}%\")\n",
    "\n",
    "# Energieberechnung\n",
    "total_hours = len(df)\n",
    "total_energy = df['power_output'].sum()  # kWh\n",
    "print(f\"\\n📊 Energieausbeute über {total_hours} Stunden:\")\n",
    "print(f\"Gesamtenergie: {total_energy:,.0f} kWh\")\n",
    "print(f\"Das entspricht dem Jahresverbrauch von ca. {total_energy/3500:.0f} Haushalten\")\n",
    "\n",
    "# Volllaststunden\n",
    "full_load_hours = total_energy / 2000\n",
    "print(f\"Volllaststunden: {full_load_hours:.0f} h\")"
   ]
  },
  {
   "cell_type": "code",
   "execution_count": null,
   "id": "d52f251d-f4d6-458a-a021-7529d1d44cf4",
   "metadata": {
    "editable": true,
    "slideshow": {
     "slide_type": "fragment"
    },
    "tags": []
   },
   "outputs": [],
   "source": []
  },
  {
   "cell_type": "code",
   "execution_count": null,
   "id": "348d208a-4bc8-44e8-a1ea-d1351de2b299",
   "metadata": {
    "editable": true,
    "slideshow": {
     "slide_type": "subslide"
    },
    "tags": []
   },
   "outputs": [],
   "source": [
    "# Visualisierung der Leistungskurve\n",
    "fig, (ax1, ax2) = plt.subplots(1, 2, figsize=(15, 5))\n",
    "\n",
    "# Leistungskennlinie\n",
    "wind_range = np.linspace(0, 30, 300)\n",
    "power_curve = [wind_to_power(w) for w in wind_range]\n",
    "\n",
    "ax1.plot(wind_range, power_curve, 'b-', linewidth=2, label='Theoretische Kennlinie')\n",
    "ax1.scatter(df['wind_speed'], df['power_output'], alpha=0.3, s=10, c='red', label='Tatsächliche Daten')\n",
    "ax1.set_xlabel('Windgeschwindigkeit (m/s)')\n",
    "ax1.set_ylabel('Leistung (kW)')\n",
    "ax1.set_title('Leistungskennlinie der Windkraftanlage')\n",
    "ax1.grid(True, alpha=0.3)\n",
    "ax1.legend()\n",
    "ax1.set_xlim(0, 30)\n",
    "ax1.set_ylim(0, 2200)\n",
    "\n",
    "# Zeitreihe der Leistung\n",
    "ax2.plot(df['timestamp'], df['power_output'], alpha=0.7, linewidth=1)\n",
    "ax2.axhline(y=df['power_output'].mean(), color='red', linestyle='--', \n",
    "            label=f'Durchschnitt: {df[\"power_output\"].mean():.0f} kW')\n",
    "ax2.set_xlabel('Zeit')\n",
    "ax2.set_ylabel('Leistung (kW)')\n",
    "ax2.set_title('Leistungsabgabe über die Zeit')\n",
    "ax2.grid(True, alpha=0.3)\n",
    "ax2.legend()\n",
    "ax2.tick_params(axis='x', rotation=45)\n",
    "\n",
    "plt.tight_layout()\n",
    "plt.show()"
   ]
  },
  {
   "cell_type": "code",
   "execution_count": null,
   "id": "e941f920-39af-4f0d-8573-897ded3c69f5",
   "metadata": {
    "editable": true,
    "slideshow": {
     "slide_type": "fragment"
    },
    "tags": []
   },
   "outputs": [],
   "source": []
  },
  {
   "cell_type": "markdown",
   "id": "7dd28823-7f86-4b67-b847-873b3145617c",
   "metadata": {
    "editable": true,
    "slideshow": {
     "slide_type": "slide"
    },
    "tags": []
   },
   "source": [
    "## 5. Machine Learning: Können wir die Windenergie vorhersagen?\n",
    "Hier wird es spannend! Kann ein Algorithmus aus vergangenen Daten die Zukunft vorhersagen?"
   ]
  },
  {
   "cell_type": "code",
   "execution_count": null,
   "id": "86467a95-efdb-4ba4-b8b1-e756eaa9ebdb",
   "metadata": {
    "editable": true,
    "slideshow": {
     "slide_type": "subslide"
    },
    "tags": []
   },
   "outputs": [],
   "source": [
    "# Feature Engineering: Zusätzliche Merkmale erstellen\n",
    "df['wind_speed_lag1'] = df['wind_speed'].shift(1)  # Windgeschwindigkeit 1h vorher\n",
    "df['wind_speed_lag6'] = df['wind_speed'].shift(6)  # Windgeschwindigkeit 6h vorher\n",
    "df['wind_speed_lag12'] = df['wind_speed'].shift(12)  # Windgeschwindigkeit 12h vorher\n",
    "df['temp_wind_interaction'] = df['temperature'] * df['wind_speed']  # Interaktion\n",
    "df['pressure_norm'] = (df['pressure'] - df['pressure'].mean()) / df['pressure'].std()  # Normalisiert\n",
    "\n",
    "# Zyklische Transformation für Stunden (sin/cos encoding)\n",
    "df['hour_sin'] = np.sin(2 * np.pi * df['hour'] / 24)\n",
    "df['hour_cos'] = np.cos(2 * np.pi * df['hour'] / 24)\n",
    "\n",
    "# Rolling Statistics\n",
    "df['wind_speed_rolling_mean_3h'] = df['wind_speed'].rolling(window=3, min_periods=1).mean()\n",
    "df['wind_speed_rolling_std_3h'] = df['wind_speed'].rolling(window=3, min_periods=1).std()\n",
    "\n",
    "# Entfernen von NaN-Werten durch Verzögerung\n",
    "df_clean = df.dropna()\n",
    "\n",
    "print(f\"📊 Feature Engineering abgeschlossen:\")\n",
    "print(f\"Ursprüngliche Anzahl Datenpunkte: {len(df)}\")\n",
    "print(f\"Nach Bereinigung: {len(df_clean)}\")"
   ]
  },
  {
   "cell_type": "code",
   "execution_count": null,
   "id": "e7c17437-985b-4b85-8f30-b989085763bf",
   "metadata": {
    "editable": true,
    "slideshow": {
     "slide_type": "fragment"
    },
    "tags": []
   },
   "outputs": [],
   "source": []
  },
  {
   "cell_type": "code",
   "execution_count": null,
   "id": "330ae205-4973-45b5-aad6-3edfd5a3bedf",
   "metadata": {
    "editable": true,
    "slideshow": {
     "slide_type": "subslide"
    },
    "tags": []
   },
   "outputs": [],
   "source": [
    "# Features und Zielvariable definieren\n",
    "features = ['wind_speed_lag1', 'wind_speed_lag6', 'wind_speed_lag12', \n",
    "            'temperature', 'pressure_norm', 'humidity', 'temp_wind_interaction', \n",
    "            'hour_sin', 'hour_cos', 'wind_speed_rolling_mean_3h', 'wind_speed_rolling_std_3h']\n",
    "X = df_clean[features]\n",
    "y = df_clean['power_output']\n",
    "\n",
    "print(f\"🤖 Machine Learning Setup:\")\n",
    "print(f\"Anzahl Samples: {len(X)}\")\n",
    "print(f\"Anzahl Features: {len(features)}\")\n",
    "\n",
    "# Train-Test Split (zeitlich geordnet!)\n",
    "split_point = int(len(X) * 0.7)\n",
    "X_train = X[:split_point]\n",
    "X_test = X[split_point:]\n",
    "y_train = y[:split_point]\n",
    "y_test = y[split_point:]\n",
    "\n",
    "print(f\"\\nTraining Set: {len(X_train)} Samples\")\n",
    "print(f\"Test Set: {len(X_test)} Samples\")\n",
    "\n",
    "# Random Forest Modell trainieren\n",
    "print(\"\\n🌲 Trainiere Random Forest Modell...\")\n",
    "rf_model = RandomForestRegressor(\n",
    "    n_estimators=100, \n",
    "    max_depth=20,\n",
    "    min_samples_split=5,\n",
    "    min_samples_leaf=2,\n",
    "    random_state=42,\n",
    "    n_jobs=-1\n",
    ")\n",
    "rf_model.fit(X_train, y_train)\n",
    "print(\"✓ Training abgeschlossen!\")"
   ]
  },
  {
   "cell_type": "code",
   "execution_count": null,
   "id": "0733d3e5-011e-49a9-82f3-579e8118c654",
   "metadata": {
    "editable": true,
    "slideshow": {
     "slide_type": ""
    },
    "tags": []
   },
   "outputs": [],
   "source": []
  },
  {
   "cell_type": "code",
   "execution_count": null,
   "id": "6d85669e-7317-4357-996e-19bb579d9859",
   "metadata": {
    "editable": true,
    "slideshow": {
     "slide_type": "subslide"
    },
    "tags": []
   },
   "outputs": [],
   "source": [
    "# Vorhersagen\n",
    "y_pred = rf_model.predict(X_test)\n",
    "\n",
    "# Modell-Evaluation\n",
    "mse = mean_squared_error(y_test, y_pred)\n",
    "rmse = np.sqrt(mse)\n",
    "r2 = r2_score(y_test, y_pred)\n",
    "mae = np.mean(np.abs(y_test - y_pred))\n",
    "\n",
    "print(f\"📈 Modell-Performance:\")\n",
    "print(f\"R² Score: {r2:.3f} (Erklärte Varianz)\")\n",
    "print(f\"RMSE: {rmse:.0f} kW\")\n",
    "print(f\"MAE: {mae:.0f} kW\")\n",
    "print(f\"Relativer Fehler: {(rmse / df['power_output'].mean()) * 100:.1f}%\")\n",
    "\n",
    "# Feature Importance\n",
    "feature_importance = pd.DataFrame({\n",
    "    'feature': features,\n",
    "    'importance': rf_model.feature_importances_\n",
    "}).sort_values('importance', ascending=False)\n",
    "\n",
    "print(f\"\\n🔍 Wichtigste Features:\")\n",
    "for idx, row in feature_importance.head().iterrows():\n",
    "    print(f\"  {row['feature']}: {row['importance']:.3f}\")"
   ]
  },
  {
   "cell_type": "code",
   "execution_count": null,
   "id": "4f74d0c6-6f86-46ed-b220-9f14a0370101",
   "metadata": {
    "editable": true,
    "slideshow": {
     "slide_type": "fragment"
    },
    "tags": []
   },
   "outputs": [],
   "source": []
  },
  {
   "cell_type": "markdown",
   "id": "eca99bbe-070a-41a2-8ecc-f8990e49976f",
   "metadata": {
    "editable": true,
    "slideshow": {
     "slide_type": "slide"
    },
    "tags": []
   },
   "source": [
    "## 6. Ergebnisse visualisieren\n",
    "Wie gut funktioniert unser Modell? Schauen wir uns die Vorhersagen genauer an."
   ]
  },
  {
   "cell_type": "code",
   "execution_count": null,
   "id": "b764f6b6-df46-45b9-b271-e00215be8547",
   "metadata": {
    "editable": true,
    "slideshow": {
     "slide_type": "subslide"
    },
    "tags": []
   },
   "outputs": [],
   "source": [
    "fig, axes = plt.subplots(2, 2, figsize=(15, 10))\n",
    "fig.suptitle('Machine Learning Ergebnisse: Windenergie-Vorhersage', fontsize=16)\n",
    "\n",
    "# 1. Vorhersage vs. Tatsächliche Werte\n",
    "ax1 = axes[0, 0]\n",
    "ax1.scatter(y_test, y_pred, alpha=0.5, s=20)\n",
    "ax1.plot([y_test.min(), y_test.max()], [y_test.min(), y_test.max()], 'r--', lw=2)\n",
    "ax1.set_xlabel('Tatsächliche Leistung (kW)')\n",
    "ax1.set_ylabel('Vorhergesagte Leistung (kW)')\n",
    "ax1.set_title(f'Vorhersage vs. Realität (R² = {r2:.3f})')\n",
    "ax1.grid(True, alpha=0.3)\n",
    "\n",
    "# 2. Residuen-Plot\n",
    "ax2 = axes[0, 1]\n",
    "residuals = y_test - y_pred\n",
    "ax2.scatter(y_pred, residuals, alpha=0.5, s=20)\n",
    "ax2.axhline(y=0, color='r', linestyle='--')\n",
    "ax2.set_xlabel('Vorhergesagte Leistung (kW)')\n",
    "ax2.set_ylabel('Residuen (kW)')\n",
    "ax2.set_title('Residuen-Analyse')\n",
    "ax2.grid(True, alpha=0.3)\n",
    "\n",
    "# 3. Feature Importance\n",
    "ax3 = axes[1, 0]\n",
    "top_features = feature_importance.head(8)\n",
    "ax3.barh(range(len(top_features)), top_features['importance'])\n",
    "ax3.set_yticks(range(len(top_features)))\n",
    "ax3.set_yticklabels(top_features['feature'])\n",
    "ax3.set_xlabel('Feature Importance')\n",
    "ax3.set_title('Wichtigkeit der Eingangsgrößen')\n",
    "ax3.grid(True, alpha=0.3, axis='x')\n",
    "\n",
    "# 4. Zeitreihe der Vorhersagen\n",
    "ax4 = axes[1, 1]\n",
    "test_timestamps = df_clean['timestamp'].iloc[split_point:]\n",
    "ax4.plot(test_timestamps, y_test.values, label='Tatsächlich', alpha=0.7)\n",
    "ax4.plot(test_timestamps, y_pred, label='Vorhersage', alpha=0.7)\n",
    "ax4.set_xlabel('Zeit')\n",
    "ax4.set_ylabel('Leistung (kW)')\n",
    "ax4.set_title('Vorhersage über Zeit')\n",
    "ax4.legend()\n",
    "ax4.grid(True, alpha=0.3)\n",
    "ax4.tick_params(axis='x', rotation=45)\n",
    "\n",
    "plt.tight_layout()\n",
    "plt.show()"
   ]
  },
  {
   "cell_type": "code",
   "execution_count": null,
   "id": "65c37203-3886-4fdb-a696-d32925889288",
   "metadata": {
    "editable": true,
    "slideshow": {
     "slide_type": "fragment"
    },
    "tags": []
   },
   "outputs": [],
   "source": []
  },
  {
   "cell_type": "markdown",
   "id": "42b85af9-a614-4e45-bb03-3abb6c87bbf8",
   "metadata": {
    "editable": true,
    "slideshow": {
     "slide_type": "slide"
    },
    "tags": []
   },
   "source": [
    "## 7. Was haben wir gelernt?\n",
    "Zeit für die wichtigste Frage: Was bedeuten diese Ergebnisse für die Ingenieurspraxis?"
   ]
  },
  {
   "cell_type": "code",
   "execution_count": null,
   "id": "a3cadfce-95fe-4dd8-843c-8ef960c39f1c",
   "metadata": {
    "editable": true,
    "slideshow": {
     "slide_type": "subslide"
    },
    "tags": []
   },
   "outputs": [],
   "source": [
    "print(\"🎯 Erkenntnisse aus der Datenanalyse:\")\n",
    "print(\"=\" * 50)\n",
    "\n",
    "# 1. Windverhältnisse\n",
    "print(\"\\n1️⃣ WINDVERHÄLTNISSE IN NRW:\")\n",
    "print(f\"   • Durchschnittliche Windgeschwindigkeit: {df['wind_speed'].mean():.1f} m/s\")\n",
    "print(f\"   • Wind weht {(df['wind_speed'] >= 3).sum() / len(df) * 100:.0f}% der Zeit stark genug für Stromerzeugung\")\n",
    "print(f\"   • Optimale Bedingungen (>12 m/s): {(df['wind_speed'] >= 12).sum() / len(df) * 100:.0f}% der Zeit\")\n",
    "\n",
    "# 2. Energieausbeute\n",
    "print(\"\\n2️⃣ ENERGIEAUSBEUTE:\")\n",
    "print(f\"   • Kapazitätsfaktor: {(df['power_output'].mean() / 2000) * 100:.1f}%\")\n",
    "print(f\"   • Jährliche Volllaststunden (hochgerechnet): {full_load_hours * 365/30:.0f} h\")\n",
    "print(f\"   • Vergleich: Onshore-Wind in Deutschland typisch 1.800-2.500 h/Jahr\")\n",
    "\n",
    "# 3. Vorhersagbarkeit\n",
    "print(\"\\n3️⃣ VORHERSAGBARKEIT:\")\n",
    "print(f\"   • R² Score von {r2:.2f} bedeutet: {r2*100:.0f}% der Varianz erklärt\")\n",
    "print(f\"   • Durchschnittlicher Fehler: {mae:.0f} kW ({mae/2000*100:.1f}% der Nennleistung)\")\n",
    "print(f\"   • Wichtigster Prädiktor: Wind von vor {1 if 'wind_speed_lag1' in feature_importance.head(1)['feature'].values else 6} Stunde(n)\")\n",
    "\n",
    "# 4. Praktische Implikationen\n",
    "print(\"\\n4️⃣ PRAKTISCHE IMPLIKATIONEN:\")\n",
    "print(\"   • Kurzfristvorhersagen (1-6h) sind gut möglich\")\n",
    "print(\"   • Windgeschwindigkeit der letzten Stunden ist bester Prädiktor\")\n",
    "print(\"   • Wetterparameter (Temp, Druck) verbessern Vorhersage nur marginal\")\n",
    "print(\"   • Netzstabilität: Schwankungen müssen ausgeglichen werden\")\n",
    "\n",
    "# 5. Data Science für Ingenieure\n",
    "print(\"\\n5️⃣ DATA SCIENCE FÜR INGENIEURE:\")\n",
    "print(\"   • Reale Daten zeigen komplexeres Verhalten als Lehrbuchmodelle\")\n",
    "print(\"   • Machine Learning kann Muster erkennen, die wir übersehen\")\n",
    "print(\"   • Aber: Physikalisches Verständnis bleibt essentiell!\")\n",
    "print(\"   • Datenqualität ist entscheidend für gute Vorhersagen\")\n",
    "\n",
    "print(\"\\n\" + \"=\" * 50)\n",
    "print(\"💡 FAZIT: Data Literacy macht Sie zu besseren Ingenieuren!\")"
   ]
  },
  {
   "cell_type": "code",
   "execution_count": null,
   "id": "319c7be0-7e0d-47bc-b576-803f0d98f31c",
   "metadata": {
    "editable": true,
    "slideshow": {
     "slide_type": "fragment"
    },
    "tags": []
   },
   "outputs": [],
   "source": []
  },
  {
   "cell_type": "code",
   "execution_count": null,
   "id": "77a98498-7d84-4a73-ac24-ba4a1c6b7f8e",
   "metadata": {
    "editable": true,
    "slideshow": {
     "slide_type": "fragment"
    },
    "tags": []
   },
   "outputs": [],
   "source": [
    "# Bonus: Wirtschaftliche Betrachtung\n",
    "strompreis = 0.08  # €/kWh (Börsenpreis)\n",
    "print(\"\\n💰 WIRTSCHAFTLICHE BETRACHTUNG:\")\n",
    "print(f\"Ertrag in {total_hours/24:.0f} Tagen: {total_energy * strompreis:,.0f} €\")\n",
    "print(f\"Hochgerechnet auf ein Jahr: {total_energy * strompreis * 365/30:,.0f} €\")\n",
    "print(f\"Bei Investitionskosten von 3 Mio. € amortisiert sich die Anlage nach ca. {3000000 / (total_energy * strompreis * 365/30):.1f} Jahren\")"
   ]
  },
  {
   "cell_type": "code",
   "execution_count": null,
   "id": "edc568eb-fb7b-448b-8e40-3b86161d6775",
   "metadata": {
    "editable": true,
    "slideshow": {
     "slide_type": "fragment"
    },
    "tags": []
   },
   "outputs": [],
   "source": []
  }
 ],
 "metadata": {
  "kernelspec": {
   "display_name": "Python (energiemanagement)",
   "language": "python",
   "name": "energiemanagement"
  },
  "language_info": {
   "codemirror_mode": {
    "name": "ipython",
    "version": 3
   },
   "file_extension": ".py",
   "mimetype": "text/x-python",
   "name": "python",
   "nbconvert_exporter": "python",
   "pygments_lexer": "ipython3",
   "version": "3.13.5"
  },
  "rise": {
   "enable_chalkboard": true,
   "show_buttons_on_startup": true,
   "start_slideshow_at": "beginning"
  },
  "toc": {
   "base_numbering": 0
  }
 },
 "nbformat": 4,
 "nbformat_minor": 5
}
